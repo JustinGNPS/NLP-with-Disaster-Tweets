{
 "cells": [
  {
   "cell_type": "code",
   "execution_count": 2,
   "id": "abae586f-6c38-49a4-856f-b68aa909dcf7",
   "metadata": {
    "execution": {
     "iopub.execute_input": "2025-05-25T14:06:21.875242Z",
     "iopub.status.busy": "2025-05-25T14:06:21.874759Z",
     "iopub.status.idle": "2025-05-25T14:06:21.927225Z",
     "shell.execute_reply": "2025-05-25T14:06:21.926287Z",
     "shell.execute_reply.started": "2025-05-25T14:06:21.875213Z"
    },
    "tags": []
   },
   "outputs": [
    {
     "data": {
      "text/html": [
       "<div>\n",
       "<style scoped>\n",
       "    .dataframe tbody tr th:only-of-type {\n",
       "        vertical-align: middle;\n",
       "    }\n",
       "\n",
       "    .dataframe tbody tr th {\n",
       "        vertical-align: top;\n",
       "    }\n",
       "\n",
       "    .dataframe thead th {\n",
       "        text-align: right;\n",
       "    }\n",
       "</style>\n",
       "<table border=\"1\" class=\"dataframe\">\n",
       "  <thead>\n",
       "    <tr style=\"text-align: right;\">\n",
       "      <th></th>\n",
       "      <th>text</th>\n",
       "      <th>target</th>\n",
       "    </tr>\n",
       "  </thead>\n",
       "  <tbody>\n",
       "    <tr>\n",
       "      <th>0</th>\n",
       "      <td>Our Deeds are the Reason of this #earthquake M...</td>\n",
       "      <td>1</td>\n",
       "    </tr>\n",
       "    <tr>\n",
       "      <th>1</th>\n",
       "      <td>Forest fire near La Ronge Sask. Canada</td>\n",
       "      <td>1</td>\n",
       "    </tr>\n",
       "    <tr>\n",
       "      <th>2</th>\n",
       "      <td>All residents asked to 'shelter in place' are ...</td>\n",
       "      <td>1</td>\n",
       "    </tr>\n",
       "    <tr>\n",
       "      <th>3</th>\n",
       "      <td>13,000 people receive #wildfires evacuation or...</td>\n",
       "      <td>1</td>\n",
       "    </tr>\n",
       "    <tr>\n",
       "      <th>4</th>\n",
       "      <td>Just got sent this photo from Ruby #Alaska as ...</td>\n",
       "      <td>1</td>\n",
       "    </tr>\n",
       "  </tbody>\n",
       "</table>\n",
       "</div>"
      ],
      "text/plain": [
       "                                                text  target\n",
       "0  Our Deeds are the Reason of this #earthquake M...       1\n",
       "1             Forest fire near La Ronge Sask. Canada       1\n",
       "2  All residents asked to 'shelter in place' are ...       1\n",
       "3  13,000 people receive #wildfires evacuation or...       1\n",
       "4  Just got sent this photo from Ruby #Alaska as ...       1"
      ]
     },
     "execution_count": 2,
     "metadata": {},
     "output_type": "execute_result"
    }
   ],
   "source": [
    "# 匯入常用套件\n",
    "import pandas as pd\n",
    "import numpy as np\n",
    "import matplotlib.pyplot as plt\n",
    "import seaborn as sns\n",
    "\n",
    "# NLP 與模型相關\n",
    "import re\n",
    "import string\n",
    "from sklearn.feature_extraction.text import TfidfVectorizer\n",
    "from sklearn.ensemble import RandomForestClassifier\n",
    "from sklearn.model_selection import train_test_split\n",
    "from sklearn.metrics import classification_report, confusion_matrix\n",
    "\n",
    "#載入資料\n",
    "train_df = pd.read_csv(\"train.csv\")\n",
    "test_df = pd.read_csv(\"test.csv\")\n",
    "\n",
    "#保留欄位\n",
    "train_df = train_df[[\"text\", \"target\"]]\n",
    "test_df = test_df[[\"text\", \"id\"]]\n",
    "\n",
    "# 顯示前幾筆資料\n",
    "train_df.head()"
   ]
  },
  {
   "cell_type": "code",
   "execution_count": 11,
   "id": "a5b8afe5-637e-446e-91bb-fe80a295832d",
   "metadata": {
    "execution": {
     "iopub.execute_input": "2025-05-25T14:21:24.346988Z",
     "iopub.status.busy": "2025-05-25T14:21:24.346674Z",
     "iopub.status.idle": "2025-05-25T14:21:24.506630Z",
     "shell.execute_reply": "2025-05-25T14:21:24.505828Z",
     "shell.execute_reply.started": "2025-05-25T14:21:24.346963Z"
    },
    "tags": []
   },
   "outputs": [
    {
     "data": {
      "text/html": [
       "<div>\n",
       "<style scoped>\n",
       "    .dataframe tbody tr th:only-of-type {\n",
       "        vertical-align: middle;\n",
       "    }\n",
       "\n",
       "    .dataframe tbody tr th {\n",
       "        vertical-align: top;\n",
       "    }\n",
       "\n",
       "    .dataframe thead th {\n",
       "        text-align: right;\n",
       "    }\n",
       "</style>\n",
       "<table border=\"1\" class=\"dataframe\">\n",
       "  <thead>\n",
       "    <tr style=\"text-align: right;\">\n",
       "      <th></th>\n",
       "      <th>text</th>\n",
       "      <th>text_clean</th>\n",
       "    </tr>\n",
       "  </thead>\n",
       "  <tbody>\n",
       "    <tr>\n",
       "      <th>0</th>\n",
       "      <td>Our Deeds are the Reason of this #earthquake M...</td>\n",
       "      <td>our deeds are the reason of this earthquake ma...</td>\n",
       "    </tr>\n",
       "    <tr>\n",
       "      <th>1</th>\n",
       "      <td>Forest fire near La Ronge Sask. Canada</td>\n",
       "      <td>forest fire near la ronge sask canada</td>\n",
       "    </tr>\n",
       "    <tr>\n",
       "      <th>2</th>\n",
       "      <td>All residents asked to 'shelter in place' are ...</td>\n",
       "      <td>all residents asked to shelter in place are be...</td>\n",
       "    </tr>\n",
       "    <tr>\n",
       "      <th>3</th>\n",
       "      <td>13,000 people receive #wildfires evacuation or...</td>\n",
       "      <td>13000 people receive wildfires evacuation orde...</td>\n",
       "    </tr>\n",
       "    <tr>\n",
       "      <th>4</th>\n",
       "      <td>Just got sent this photo from Ruby #Alaska as ...</td>\n",
       "      <td>just got sent this photo from ruby alaska as s...</td>\n",
       "    </tr>\n",
       "  </tbody>\n",
       "</table>\n",
       "</div>"
      ],
      "text/plain": [
       "                                                text  \\\n",
       "0  Our Deeds are the Reason of this #earthquake M...   \n",
       "1             Forest fire near La Ronge Sask. Canada   \n",
       "2  All residents asked to 'shelter in place' are ...   \n",
       "3  13,000 people receive #wildfires evacuation or...   \n",
       "4  Just got sent this photo from Ruby #Alaska as ...   \n",
       "\n",
       "                                          text_clean  \n",
       "0  our deeds are the reason of this earthquake ma...  \n",
       "1              forest fire near la ronge sask canada  \n",
       "2  all residents asked to shelter in place are be...  \n",
       "3  13000 people receive wildfires evacuation orde...  \n",
       "4  just got sent this photo from ruby alaska as s...  "
      ]
     },
     "execution_count": 11,
     "metadata": {},
     "output_type": "execute_result"
    }
   ],
   "source": [
    "# 定義清理函數\n",
    "def clean_text(text):\n",
    "    text = str(text).lower()                           \n",
    "    text = re.sub(r'https?://\\S+|www\\.\\S+', '', text)  \n",
    "    text = re.sub(r'<.*?>', '', text)                  \n",
    "    text = re.sub(r'[%s]' % re.escape(string.punctuation), '', text)\n",
    "    text = re.sub(r'\\n', ' ', text)                    \n",
    "    return text\n",
    "\n",
    "# 套用清理\n",
    "train_df['text_clean'] = train_df['text'].apply(clean_text)\n",
    "test_df['text_clean'] = test_df['text'].apply(clean_text)\n",
    "\n",
    "train_df[['text', 'text_clean']].head()\n"
   ]
  },
  {
   "cell_type": "code",
   "execution_count": 4,
   "id": "6fd8eb95-d335-4dfb-bf0d-a95a47f1cd18",
   "metadata": {
    "execution": {
     "iopub.execute_input": "2025-05-25T14:06:46.343795Z",
     "iopub.status.busy": "2025-05-25T14:06:46.343212Z",
     "iopub.status.idle": "2025-05-25T14:06:46.525451Z",
     "shell.execute_reply": "2025-05-25T14:06:46.524358Z",
     "shell.execute_reply.started": "2025-05-25T14:06:46.343763Z"
    },
    "tags": []
   },
   "outputs": [],
   "source": [
    "# 建立 TF-IDF 向量\n",
    "tfidf = TfidfVectorizer(stop_words='english', max_features=5000)\n",
    "\n",
    "# 對訓練與測試資料擬合與轉換\n",
    "X_train_tfidf = tfidf.fit_transform(train_df['text_clean'])\n",
    "X_test_tfidf = tfidf.transform(test_df['text_clean'])\n",
    "\n",
    "# 標籤\n",
    "y_train = train_df['target']\n"
   ]
  },
  {
   "cell_type": "code",
   "execution_count": 9,
   "id": "7bd11298-f58b-49ad-bf6c-c2eb11f5375e",
   "metadata": {
    "execution": {
     "iopub.execute_input": "2025-05-25T14:16:01.167756Z",
     "iopub.status.busy": "2025-05-25T14:16:01.167570Z",
     "iopub.status.idle": "2025-05-25T14:16:07.411107Z",
     "shell.execute_reply": "2025-05-25T14:16:07.409714Z",
     "shell.execute_reply.started": "2025-05-25T14:16:01.167740Z"
    },
    "tags": []
   },
   "outputs": [],
   "source": [
    "X_tr, X_val, y_tr, y_val = train_test_split(X_train_tfidf, y_train, test_size=0.2, random_state=42)\n",
    "\n",
    "rf_model = RandomForestClassifier(n_estimators=100, random_state=42)\n",
    "rf_model.fit(X_tr, y_tr)\n",
    "\n",
    "# 預測驗證集\n",
    "y_pred = rf_model.predict(X_val)\n"
   ]
  },
  {
   "cell_type": "code",
   "execution_count": 6,
   "id": "8acad2d3-6ab5-4a15-b041-a9f5665efe2b",
   "metadata": {
    "execution": {
     "iopub.execute_input": "2025-05-25T14:07:11.679054Z",
     "iopub.status.busy": "2025-05-25T14:07:11.677898Z",
     "iopub.status.idle": "2025-05-25T14:07:11.929349Z",
     "shell.execute_reply": "2025-05-25T14:07:11.928155Z",
     "shell.execute_reply.started": "2025-05-25T14:07:11.679019Z"
    },
    "tags": []
   },
   "outputs": [
    {
     "name": "stdout",
     "output_type": "stream",
     "text": [
      "Classification Report:\n",
      "              precision    recall  f1-score   support\n",
      "\n",
      "           0       0.78      0.85      0.81       874\n",
      "           1       0.77      0.67      0.72       649\n",
      "\n",
      "    accuracy                           0.77      1523\n",
      "   macro avg       0.77      0.76      0.76      1523\n",
      "weighted avg       0.77      0.77      0.77      1523\n",
      "\n"
     ]
    },
    {
     "data": {
      "image/png": "[encoded data removed]",
      "text/plain": [
       "<Figure size 640x480 with 2 Axes>"
      ]
     },
     "metadata": {},
     "output_type": "display_data"
    }
   ],
   "source": [
    "# 評估模型表現\n",
    "print(\"Classification Report:\")\n",
    "print(classification_report(y_val, y_pred))\n",
    "\n",
    "# 混淆矩陣\n",
    "cm = confusion_matrix(y_val, y_pred)\n",
    "sns.heatmap(cm, annot=True, fmt='d', cmap='Blues')\n",
    "plt.xlabel('Predicted')\n",
    "plt.ylabel('Actual')\n",
    "plt.title('Confusion Matrix')\n",
    "plt.show()\n"
   ]
  },
  {
   "cell_type": "code",
   "execution_count": null,
   "id": "9e5ad88d-d91a-4e0e-9092-58b12fc4c82b",
   "metadata": {
    "execution": {
     "iopub.execute_input": "2025-05-25T14:07:21.268962Z",
     "iopub.status.busy": "2025-05-25T14:07:21.268478Z"
    }
   },
   "outputs": [
    {
     "name": "stdout",
     "output_type": "stream",
     "text": [
      "已輸出 submission.csv\n"
     ]
    }
   ],
   "source": [
    "# 對測試集進行預測\n",
    "test_preds = rf_model.predict(X_test_tfidf)\n",
    "\n",
    "# 產生提交檔案\n",
    "submission = pd.DataFrame({\n",
    "    'id': test_df['id'],\n",
    "    'target': test_preds\n",
    "})\n",
    "\n",
    "submission.to_csv('submission.csv', index=False)\n",
    "print(\"已輸出 submission.csv\")\n"
   ]
  },
  {
   "cell_type": "code",
   "execution_count": null,
   "id": "707268e7-5050-4350-90d2-f21589e2a4c3",
   "metadata": {},
   "outputs": [],
   "source": []
  }
 ],
 "metadata": {
  "kernelspec": {
   "display_name": "Python 3 (ipykernel)",
   "language": "python",
   "name": "python3"
  },
  "language_info": {
   "codemirror_mode": {
    "name": "ipython",
    "version": 3
   },
   "file_extension": ".py",
   "mimetype": "text/x-python",
   "name": "python",
   "nbconvert_exporter": "python",
   "pygments_lexer": "ipython3",
   "version": "3.9.13"
  }
 },
 "nbformat": 4,
 "nbformat_minor": 5
}
